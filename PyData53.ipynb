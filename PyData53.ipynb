{
 "cells": [
  {
   "cell_type": "code",
   "execution_count": 1,
   "id": "bb6b60c0-0430-401a-b765-136cdc08539a",
   "metadata": {},
   "outputs": [],
   "source": [
    "import numpy as np\n",
    "import pandas as pd\n",
    "from datetime import datetime"
   ]
  },
  {
   "cell_type": "code",
   "execution_count": 2,
   "id": "8cbbb93a-71a0-4a3b-b579-dd266ffb660d",
   "metadata": {},
   "outputs": [
    {
     "name": "stderr",
     "output_type": "stream",
     "text": [
      "C:\\Users\\dell\\AppData\\Local\\Temp\\ipykernel_19360\\2994308253.py:2: FutureWarning: 'M' is deprecated and will be removed in a future version, please use 'ME' instead.\n",
      "  index=pd.date_range(\"2000-01-01\", periods=4, freq=\"M\"))\n"
     ]
    },
    {
     "data": {
      "text/plain": [
       "2000-01-31    0.473810\n",
       "2000-02-29    0.285472\n",
       "2000-03-31         NaN\n",
       "2000-04-30         NaN\n",
       "Freq: ME, dtype: float64"
      ]
     },
     "execution_count": 2,
     "metadata": {},
     "output_type": "execute_result"
    }
   ],
   "source": [
    "ts = pd.Series(np.random.standard_normal(4),\n",
    "               index=pd.date_range(\"2000-01-01\", periods=4, freq=\"M\"))\n",
    "ts\n",
    "ts.shift(2)\n",
    "ts.shift(-2)"
   ]
  },
  {
   "cell_type": "code",
   "execution_count": 3,
   "id": "f04198bc-97b1-4333-a192-49b406cec233",
   "metadata": {},
   "outputs": [
    {
     "data": {
      "text/plain": [
       "Timestamp('2011-11-20 00:00:00')"
      ]
     },
     "execution_count": 3,
     "metadata": {},
     "output_type": "execute_result"
    }
   ],
   "source": [
    "from pandas.tseries.offsets import Day, MonthEnd\n",
    "now = datetime(2011, 11, 17)\n",
    "now + 3 * Day()"
   ]
  },
  {
   "cell_type": "code",
   "execution_count": 4,
   "id": "06de62a0-2eb6-4db8-b7d6-3ad4f48ef662",
   "metadata": {},
   "outputs": [
    {
     "data": {
      "text/plain": [
       "2000-01-31    0.428850\n",
       "2000-02-29    0.894212\n",
       "2000-03-31   -0.117816\n",
       "dtype: float64"
      ]
     },
     "execution_count": 4,
     "metadata": {},
     "output_type": "execute_result"
    }
   ],
   "source": [
    "ts = pd.Series(np.random.standard_normal(20),\n",
    "               index=pd.date_range(\"2000-01-15\", periods=20, freq=\"4D\"))\n",
    "ts\n",
    "ts.groupby(MonthEnd().rollforward).mean()"
   ]
  },
  {
   "cell_type": "code",
   "execution_count": 5,
   "id": "d3fcf55f-59fa-4df4-b6ca-73b7e3b0d7c0",
   "metadata": {},
   "outputs": [
    {
     "data": {
      "text/plain": [
       "DatetimeIndex(['2000-01-15 00:00:00+00:00', '2000-01-19 00:00:00+00:00',\n",
       "               '2000-01-23 00:00:00+00:00', '2000-01-27 00:00:00+00:00',\n",
       "               '2000-01-31 00:00:00+00:00', '2000-02-04 00:00:00+00:00',\n",
       "               '2000-02-08 00:00:00+00:00', '2000-02-12 00:00:00+00:00',\n",
       "               '2000-02-16 00:00:00+00:00', '2000-02-20 00:00:00+00:00',\n",
       "               '2000-02-24 00:00:00+00:00', '2000-02-28 00:00:00+00:00',\n",
       "               '2000-03-03 00:00:00+00:00', '2000-03-07 00:00:00+00:00',\n",
       "               '2000-03-11 00:00:00+00:00', '2000-03-15 00:00:00+00:00',\n",
       "               '2000-03-19 00:00:00+00:00', '2000-03-23 00:00:00+00:00',\n",
       "               '2000-03-27 00:00:00+00:00', '2000-03-31 00:00:00+00:00'],\n",
       "              dtype='datetime64[ns, UTC]', freq='4D')"
      ]
     },
     "execution_count": 5,
     "metadata": {},
     "output_type": "execute_result"
    }
   ],
   "source": [
    "ts\n",
    "ts_utc = ts.tz_localize(\"UTC\")\n",
    "ts_utc\n",
    "ts_utc.index"
   ]
  },
  {
   "cell_type": "code",
   "execution_count": 6,
   "id": "3c83332a-bb22-4869-a9a4-e5e766a3ac80",
   "metadata": {},
   "outputs": [
    {
     "data": {
      "text/plain": [
       "2000-01-14 19:00:00-05:00    1.527860\n",
       "2000-01-18 19:00:00-05:00    0.556753\n",
       "2000-01-22 19:00:00-05:00    1.189586\n",
       "2000-01-26 19:00:00-05:00   -0.455568\n",
       "2000-01-30 19:00:00-05:00   -0.674382\n",
       "2000-02-03 19:00:00-05:00   -0.499404\n",
       "2000-02-07 19:00:00-05:00    0.705057\n",
       "2000-02-11 19:00:00-05:00    2.714931\n",
       "2000-02-15 19:00:00-05:00   -0.114288\n",
       "2000-02-19 19:00:00-05:00    1.455210\n",
       "2000-02-23 19:00:00-05:00    0.755879\n",
       "2000-02-27 19:00:00-05:00    1.242096\n",
       "2000-03-02 19:00:00-05:00   -0.411383\n",
       "2000-03-06 19:00:00-05:00    0.142437\n",
       "2000-03-10 19:00:00-05:00    0.480271\n",
       "2000-03-14 19:00:00-05:00   -1.058870\n",
       "2000-03-18 19:00:00-05:00   -1.099420\n",
       "2000-03-22 19:00:00-05:00   -0.321832\n",
       "2000-03-26 19:00:00-05:00    0.822456\n",
       "2000-03-30 19:00:00-05:00    0.503811\n",
       "Freq: 4D, dtype: float64"
      ]
     },
     "execution_count": 6,
     "metadata": {},
     "output_type": "execute_result"
    }
   ],
   "source": [
    "ts_utc.tz_convert(\"America/New_York\")"
   ]
  },
  {
   "cell_type": "code",
   "execution_count": 7,
   "id": "199db5d4-e102-45d3-9c99-8059ccd69cc7",
   "metadata": {},
   "outputs": [
    {
     "data": {
      "text/plain": [
       "2000-01-15 06:00:00+01:00    1.527860\n",
       "2000-01-19 06:00:00+01:00    0.556753\n",
       "2000-01-23 06:00:00+01:00    1.189586\n",
       "2000-01-27 06:00:00+01:00   -0.455568\n",
       "2000-01-31 06:00:00+01:00   -0.674382\n",
       "2000-02-04 06:00:00+01:00   -0.499404\n",
       "2000-02-08 06:00:00+01:00    0.705057\n",
       "2000-02-12 06:00:00+01:00    2.714931\n",
       "2000-02-16 06:00:00+01:00   -0.114288\n",
       "2000-02-20 06:00:00+01:00    1.455210\n",
       "2000-02-24 06:00:00+01:00    0.755879\n",
       "2000-02-28 06:00:00+01:00    1.242096\n",
       "2000-03-03 06:00:00+01:00   -0.411383\n",
       "2000-03-07 06:00:00+01:00    0.142437\n",
       "2000-03-11 06:00:00+01:00    0.480271\n",
       "2000-03-15 06:00:00+01:00   -1.058870\n",
       "2000-03-19 06:00:00+01:00   -1.099420\n",
       "2000-03-23 06:00:00+01:00   -0.321832\n",
       "2000-03-27 07:00:00+02:00    0.822456\n",
       "2000-03-31 07:00:00+02:00    0.503811\n",
       "dtype: float64"
      ]
     },
     "execution_count": 7,
     "metadata": {},
     "output_type": "execute_result"
    }
   ],
   "source": [
    "ts_eastern = ts.tz_localize(\"America/New_York\")\n",
    "ts_eastern.tz_convert(\"UTC\")\n",
    "ts_eastern.tz_convert(\"Europe/Berlin\")"
   ]
  },
  {
   "cell_type": "code",
   "execution_count": 8,
   "id": "8b9cbae3-c69c-471f-b6ca-c2506ebe7500",
   "metadata": {},
   "outputs": [
    {
     "data": {
      "text/plain": [
       "DatetimeIndex(['2000-01-15 00:00:00+08:00', '2000-01-19 00:00:00+08:00',\n",
       "               '2000-01-23 00:00:00+08:00', '2000-01-27 00:00:00+08:00',\n",
       "               '2000-01-31 00:00:00+08:00', '2000-02-04 00:00:00+08:00',\n",
       "               '2000-02-08 00:00:00+08:00', '2000-02-12 00:00:00+08:00',\n",
       "               '2000-02-16 00:00:00+08:00', '2000-02-20 00:00:00+08:00',\n",
       "               '2000-02-24 00:00:00+08:00', '2000-02-28 00:00:00+08:00',\n",
       "               '2000-03-03 00:00:00+08:00', '2000-03-07 00:00:00+08:00',\n",
       "               '2000-03-11 00:00:00+08:00', '2000-03-15 00:00:00+08:00',\n",
       "               '2000-03-19 00:00:00+08:00', '2000-03-23 00:00:00+08:00',\n",
       "               '2000-03-27 00:00:00+08:00', '2000-03-31 00:00:00+08:00'],\n",
       "              dtype='datetime64[ns, Asia/Shanghai]', freq=None)"
      ]
     },
     "execution_count": 8,
     "metadata": {},
     "output_type": "execute_result"
    }
   ],
   "source": [
    "ts.index.tz_localize(\"Asia/Shanghai\")"
   ]
  },
  {
   "cell_type": "code",
   "execution_count": 9,
   "id": "bed2200e-f0b5-4907-b68e-0e6f5ff1ffb0",
   "metadata": {},
   "outputs": [
    {
     "data": {
      "text/plain": [
       "Timestamp('2011-03-11 23:00:00-0500', tz='America/New_York')"
      ]
     },
     "execution_count": 9,
     "metadata": {},
     "output_type": "execute_result"
    }
   ],
   "source": [
    "stamp = pd.Timestamp(\"2011-03-12 04:00\")\n",
    "stamp_utc = stamp.tz_localize(\"utc\")\n",
    "stamp_utc.tz_convert(\"America/New_York\")"
   ]
  },
  {
   "cell_type": "code",
   "execution_count": 10,
   "id": "aefc8ebf-b757-4cb1-9c3c-f2f85895e5ff",
   "metadata": {},
   "outputs": [
    {
     "data": {
      "text/plain": [
       "Timestamp('2011-03-12 04:00:00+0300', tz='Europe/Moscow')"
      ]
     },
     "execution_count": 10,
     "metadata": {},
     "output_type": "execute_result"
    }
   ],
   "source": [
    "stamp_moscow = pd.Timestamp(\"2011-03-12 04:00\", tz=\"Europe/Moscow\")\n",
    "stamp_moscow"
   ]
  },
  {
   "cell_type": "code",
   "execution_count": 11,
   "id": "d6a3647e-1114-47aa-96ac-a8be8501a756",
   "metadata": {},
   "outputs": [
    {
     "data": {
      "text/plain": [
       "1299902400000000000"
      ]
     },
     "execution_count": 11,
     "metadata": {},
     "output_type": "execute_result"
    }
   ],
   "source": [
    "stamp_utc.value\n",
    "stamp_utc.tz_convert(\"America/New_York\").value"
   ]
  },
  {
   "cell_type": "code",
   "execution_count": 12,
   "id": "0b96e168-5988-410d-ba5e-23d7a31d4652",
   "metadata": {},
   "outputs": [
    {
     "data": {
      "text/plain": [
       "<Hour>"
      ]
     },
     "execution_count": 12,
     "metadata": {},
     "output_type": "execute_result"
    }
   ],
   "source": [
    "from pandas.tseries.offsets import Hour, Minute\n",
    "hour = Hour()\n",
    "hour"
   ]
  },
  {
   "cell_type": "code",
   "execution_count": 13,
   "id": "a6e52965-c463-4b73-bb0c-8636d5c6bd9d",
   "metadata": {},
   "outputs": [
    {
     "data": {
      "text/plain": [
       "Timestamp('2012-03-11 03:30:00-0400', tz='US/Eastern')"
      ]
     },
     "execution_count": 13,
     "metadata": {},
     "output_type": "execute_result"
    }
   ],
   "source": [
    "stamp = pd.Timestamp(\"2012-03-11 01:30\", tz=\"US/Eastern\")\n",
    "stamp\n",
    "stamp + Hour()"
   ]
  },
  {
   "cell_type": "code",
   "execution_count": 14,
   "id": "8276b121-493f-459f-b6ab-da33f160f52a",
   "metadata": {},
   "outputs": [
    {
     "data": {
      "text/plain": [
       "Timestamp('2012-11-04 01:30:00-0500', tz='US/Eastern')"
      ]
     },
     "execution_count": 14,
     "metadata": {},
     "output_type": "execute_result"
    }
   ],
   "source": [
    "stamp = pd.Timestamp(\"2012-11-04 00:30\", tz=\"US/Eastern\")\n",
    "stamp\n",
    "stamp + 2 * Hour()"
   ]
  },
  {
   "cell_type": "code",
   "execution_count": 15,
   "id": "8eb01d01-8f27-47be-be3f-214dc8b6ad14",
   "metadata": {},
   "outputs": [
    {
     "data": {
      "text/plain": [
       "DatetimeIndex(['2012-03-07 09:30:00+00:00', '2012-03-08 09:30:00+00:00',\n",
       "               '2012-03-09 09:30:00+00:00', '2012-03-12 09:30:00+00:00',\n",
       "               '2012-03-13 09:30:00+00:00', '2012-03-14 09:30:00+00:00',\n",
       "               '2012-03-15 09:30:00+00:00'],\n",
       "              dtype='datetime64[ns, UTC]', freq=None)"
      ]
     },
     "execution_count": 15,
     "metadata": {},
     "output_type": "execute_result"
    }
   ],
   "source": [
    "dates = pd.date_range(\"2012-03-07 09:30\", periods=10, freq=\"B\")\n",
    "ts = pd.Series(np.random.standard_normal(len(dates)), index=dates)\n",
    "ts\n",
    "ts1 = ts[:7].tz_localize(\"Europe/London\")\n",
    "ts2 = ts1[2:].tz_convert(\"Europe/Moscow\")\n",
    "result = ts1 + ts2\n",
    "result.index"
   ]
  },
  {
   "cell_type": "code",
   "execution_count": 16,
   "id": "08e85b30-c0e8-423e-8a2f-3e5aea808c2b",
   "metadata": {},
   "outputs": [
    {
     "name": "stderr",
     "output_type": "stream",
     "text": [
      "C:\\Users\\dell\\AppData\\Local\\Temp\\ipykernel_19360\\520127536.py:1: FutureWarning: 'A-DEC' is deprecated and will be removed in a future version, please use 'Y-DEC' instead.\n",
      "  p = pd.Period(\"2011\", freq=\"A-DEC\")\n"
     ]
    },
    {
     "data": {
      "text/plain": [
       "Period('2011', 'Y-DEC')"
      ]
     },
     "execution_count": 16,
     "metadata": {},
     "output_type": "execute_result"
    }
   ],
   "source": [
    "p = pd.Period(\"2011\", freq=\"A-DEC\")\n",
    "p"
   ]
  },
  {
   "cell_type": "code",
   "execution_count": 17,
   "id": "65431954-7904-4527-bf45-647e11698038",
   "metadata": {},
   "outputs": [
    {
     "data": {
      "text/plain": [
       "Period('2009', 'Y-DEC')"
      ]
     },
     "execution_count": 17,
     "metadata": {},
     "output_type": "execute_result"
    }
   ],
   "source": [
    "p + 5\n",
    "p - 2"
   ]
  },
  {
   "cell_type": "code",
   "execution_count": 18,
   "id": "124e68c3-7bd6-4172-ac43-f78e8b7574be",
   "metadata": {},
   "outputs": [
    {
     "name": "stderr",
     "output_type": "stream",
     "text": [
      "C:\\Users\\dell\\AppData\\Local\\Temp\\ipykernel_19360\\3816979827.py:1: FutureWarning: 'A-DEC' is deprecated and will be removed in a future version, please use 'Y-DEC' instead.\n",
      "  pd.Period(\"2014\", freq=\"A-DEC\") - p\n"
     ]
    },
    {
     "data": {
      "text/plain": [
       "<3 * YearEnds: month=12>"
      ]
     },
     "execution_count": 18,
     "metadata": {},
     "output_type": "execute_result"
    }
   ],
   "source": [
    "pd.Period(\"2014\", freq=\"A-DEC\") - p"
   ]
  },
  {
   "cell_type": "code",
   "execution_count": 19,
   "id": "3c6a2cfd-e15d-4fdd-a5ed-3bd184f1e16c",
   "metadata": {},
   "outputs": [
    {
     "data": {
      "text/plain": [
       "PeriodIndex(['2000-01', '2000-02', '2000-03', '2000-04', '2000-05', '2000-06'], dtype='period[M]')"
      ]
     },
     "execution_count": 19,
     "metadata": {},
     "output_type": "execute_result"
    }
   ],
   "source": [
    "periods = pd.period_range(\"2000-01-01\", \"2000-06-30\", freq=\"M\")\n",
    "periods"
   ]
  },
  {
   "cell_type": "code",
   "execution_count": 20,
   "id": "93cb3af6-c18c-4354-8304-554ba126137c",
   "metadata": {},
   "outputs": [
    {
     "data": {
      "text/plain": [
       "2000-01    1.833449\n",
       "2000-02   -1.130646\n",
       "2000-03    1.046690\n",
       "2000-04   -0.283157\n",
       "2000-05   -1.957489\n",
       "2000-06   -1.783484\n",
       "Freq: M, dtype: float64"
      ]
     },
     "execution_count": 20,
     "metadata": {},
     "output_type": "execute_result"
    }
   ],
   "source": [
    "pd.Series(np.random.standard_normal(6), index=periods)"
   ]
  },
  {
   "cell_type": "code",
   "execution_count": 21,
   "id": "02dce18a-e919-4030-98ae-00d8ba46de24",
   "metadata": {},
   "outputs": [
    {
     "data": {
      "text/plain": [
       "PeriodIndex(['2001Q3', '2002Q2', '2003Q1'], dtype='period[Q-DEC]')"
      ]
     },
     "execution_count": 21,
     "metadata": {},
     "output_type": "execute_result"
    }
   ],
   "source": [
    "values = [\"2001Q3\", \"2002Q2\", \"2003Q1\"]\n",
    "index = pd.PeriodIndex(values, freq=\"Q-DEC\")\n",
    "index"
   ]
  },
  {
   "cell_type": "code",
   "execution_count": 22,
   "id": "7c5997cb-235c-4b4b-9bba-3c9928d17ec0",
   "metadata": {},
   "outputs": [
    {
     "name": "stderr",
     "output_type": "stream",
     "text": [
      "C:\\Users\\dell\\AppData\\Local\\Temp\\ipykernel_19360\\3519524340.py:1: FutureWarning: 'A-DEC' is deprecated and will be removed in a future version, please use 'Y-DEC' instead.\n",
      "  p = pd.Period(\"2011\", freq=\"A-DEC\")\n"
     ]
    },
    {
     "data": {
      "text/plain": [
       "Period('2011-12', 'M')"
      ]
     },
     "execution_count": 22,
     "metadata": {},
     "output_type": "execute_result"
    }
   ],
   "source": [
    "p = pd.Period(\"2011\", freq=\"A-DEC\")\n",
    "p\n",
    "p.asfreq(\"M\", how=\"start\")\n",
    "p.asfreq(\"M\", how=\"end\")\n",
    "p.asfreq(\"M\")"
   ]
  },
  {
   "cell_type": "code",
   "execution_count": 23,
   "id": "b23f3d56-4e8e-485a-8535-230f804ffb40",
   "metadata": {},
   "outputs": [
    {
     "name": "stderr",
     "output_type": "stream",
     "text": [
      "C:\\Users\\dell\\AppData\\Local\\Temp\\ipykernel_19360\\1547579311.py:1: FutureWarning: 'A-JUN' is deprecated and will be removed in a future version, please use 'Y-JUN' instead.\n",
      "  p = pd.Period(\"2011\", freq=\"A-JUN\")\n"
     ]
    },
    {
     "data": {
      "text/plain": [
       "Period('2011-06', 'M')"
      ]
     },
     "execution_count": 23,
     "metadata": {},
     "output_type": "execute_result"
    }
   ],
   "source": [
    "p = pd.Period(\"2011\", freq=\"A-JUN\")\n",
    "p\n",
    "p.asfreq(\"M\", how=\"start\")\n",
    "p.asfreq(\"M\", how=\"end\")"
   ]
  },
  {
   "cell_type": "code",
   "execution_count": 24,
   "id": "091b7281-7568-4c9d-803f-660ec968d888",
   "metadata": {},
   "outputs": [
    {
     "name": "stderr",
     "output_type": "stream",
     "text": [
      "C:\\Users\\dell\\AppData\\Local\\Temp\\ipykernel_19360\\2271097004.py:2: FutureWarning: 'A-JUN' is deprecated and will be removed in a future version, please use 'Y-JUN' instead.\n",
      "  p.asfreq(\"A-JUN\")\n"
     ]
    },
    {
     "data": {
      "text/plain": [
       "Period('2012', 'Y-JUN')"
      ]
     },
     "execution_count": 24,
     "metadata": {},
     "output_type": "execute_result"
    }
   ],
   "source": [
    "p = pd.Period(\"Aug-2011\", \"M\")\n",
    "p.asfreq(\"A-JUN\")"
   ]
  },
  {
   "cell_type": "code",
   "execution_count": null,
   "id": "1b408afc-0be8-4192-8032-b9f0e347b524",
   "metadata": {},
   "outputs": [],
   "source": []
  }
 ],
 "metadata": {
  "kernelspec": {
   "display_name": "Python 3 (ipykernel)",
   "language": "python",
   "name": "python3"
  },
  "language_info": {
   "codemirror_mode": {
    "name": "ipython",
    "version": 3
   },
   "file_extension": ".py",
   "mimetype": "text/x-python",
   "name": "python",
   "nbconvert_exporter": "python",
   "pygments_lexer": "ipython3",
   "version": "3.12.3"
  }
 },
 "nbformat": 4,
 "nbformat_minor": 5
}
